{
 "cells": [
  {
   "cell_type": "markdown",
   "metadata": {
    "deletable": false,
    "editable": false,
    "nbgrader": {
     "cell_type": "markdown",
     "checksum": "e82b207d320d2dd934ae40fd9d5c73b2",
     "grade": false,
     "grade_id": "cell-66ce6920367f4830",
     "locked": true,
     "schema_version": 3,
     "solution": false,
     "task": false
    }
   },
   "source": [
    "# Assignment 1: Part 1 - kNN Basics\n",
    "In this assignment you will implement a kNN model from scratch. The objectives are:\n",
    "- To familiarise yourself with Python and some aspects of Numpy if you are not accustomed to it\n",
    "- To gain some hands-on experience with a simple machine learning model\n",
    "- Classify a set of test data\n"
   ]
  },
  {
   "cell_type": "code",
   "execution_count": 1,
   "metadata": {
    "deletable": false,
    "editable": false,
    "nbgrader": {
     "cell_type": "code",
     "checksum": "9daaf6434544b0f54a4c66cc5934904f",
     "grade": false,
     "grade_id": "cell-fe3ff0f20fdeb42d",
     "locked": true,
     "schema_version": 3,
     "solution": false,
     "task": false
    }
   },
   "outputs": [],
   "source": [
    "import numpy as np\n",
    "from sklearn.datasets import make_classification \n",
    "from sklearn.model_selection import train_test_split\n",
    "import matplotlib.pyplot as plt"
   ]
  },
  {
   "cell_type": "markdown",
   "metadata": {
    "deletable": false,
    "editable": false,
    "nbgrader": {
     "cell_type": "markdown",
     "checksum": "7fdf2cdc730ff6f136bb0424314faedf",
     "grade": false,
     "grade_id": "cell-79634f1e4a5c0d86",
     "locked": true,
     "schema_version": 3,
     "solution": false,
     "task": false
    }
   },
   "source": [
    "# Data exploration\n",
    "We can use sklearn to generate random data. For now we will classify data with two input features that may belong to one of two classes.\n",
    "The full dataset is split 50/50 into a training and test set.\n",
    "For now we will not do any pre-processing on the data.\n",
    "\n",
    "At a later stage we will look at real-world datasets and some of the problems that might be experienced with real-world data."
   ]
  },
  {
   "cell_type": "code",
   "execution_count": 2,
   "metadata": {
    "deletable": false,
    "editable": false,
    "nbgrader": {
     "cell_type": "code",
     "checksum": "e66ae6aacaa6198f4f9f3c6510558931",
     "grade": false,
     "grade_id": "cell-de40ac28a7950600",
     "locked": true,
     "schema_version": 3,
     "solution": false,
     "task": false
    }
   },
   "outputs": [],
   "source": [
    "X, Y = make_classification(n_samples=500, n_features=2, n_redundant=0, n_informative=1, n_classes=2, n_clusters_per_class=1)\n",
    "X_train, X_test, Y_train, Y_test = train_test_split(X, Y, test_size=0.5)"
   ]
  },
  {
   "cell_type": "markdown",
   "metadata": {
    "deletable": false,
    "editable": false,
    "nbgrader": {
     "cell_type": "markdown",
     "checksum": "65bf80cbd7e1c22a8bceaa2e640d0291",
     "grade": false,
     "grade_id": "cell-f0064607f17ef5f2",
     "locked": true,
     "schema_version": 3,
     "solution": false,
     "task": false
    }
   },
   "source": [
    "It is very useful to know the shape of the data you are working with. Very often it serves as a quick way to debug parts of your code. If you are working with Python lists you can use the `len()` function, but you would have to use it for each dimension of your data. e.g.\\\n",
    "`dim1 = len(my_list)` ,\n",
    "`dim2 = len(my_list[0])` ,\n",
    "`dim3 = len(my_list([0][0])`\\\n",
    "Numpy provides easy access to the shape of n-dimensional arrays `ndarrays` e.g. \\\n",
    "`my_array.shape => (dim1, dim2, dim3)` \\\n",
    "You will notice that I have provided clues about the shape of the data for each function where necessary.\n",
    "\n",
    "You can use the cell block below to examine the data however you wish. It will not be graded. I suggest confirming that the data shapes make sense. For example the data matix $\\mathbf{X}$ would be given by\n",
    "\\begin{align}\n",
    "\\mathbf{X} &= \\begin{bmatrix}\n",
    "\t\t\t\\mathbf{x_1}^T \\\\\n",
    "\t\t\t\\mathbf{x_2}^T \\\\\n",
    "\t\t\t\\vdots \\\\\n",
    "\t\t\t\\mathbf{x_n}^T \\\\\n",
    "\t\t\\end{bmatrix}\n",
    "\t\t=\n",
    "\t\t\\begin{bmatrix}\n",
    "\t\t\tx_{1}^{[1]} & x_{2}^{[1]}  & \\dots  & x_{m}^{[1]} \\\\\n",
    "\t\t\tx_{1}^{[2]} & x_{2}^{[2]}  & \\dots  & x_{m}^{[2]} \\\\\n",
    "\t\t\t\\vdots & \\vdots & \\ddots & \\vdots \\\\\n",
    "\t\t\tx_{1}^{[n]} & x_{2}^{[n]}  & \\dots  & x_{m}^{[n]} \\\\\n",
    "\t\t\\end{bmatrix}\n",
    "\\end{align}\n",
    "Where there are $n$ number of examples and $m$ number of features"
   ]
  },
  {
   "cell_type": "code",
   "execution_count": 3,
   "metadata": {},
   "outputs": [],
   "source": [
    "# You can use this block to play around. \n",
    "# Just make sure not to change the generated data as these are global variables.\n",
    "# You can re-run the data generating block to create new data"
   ]
  },
  {
   "cell_type": "markdown",
   "metadata": {
    "deletable": false,
    "editable": false,
    "nbgrader": {
     "cell_type": "markdown",
     "checksum": "c8803afe1a4bc4c3c926f6454f0efd87",
     "grade": false,
     "grade_id": "cell-b99772c04321ac51",
     "locked": true,
     "schema_version": 3,
     "solution": false,
     "task": false
    }
   },
   "source": [
    "# Data Visualisation\n",
    "It's useful to visualise the data. Here it is easy because we only have two features. High-dimensional inputs need additional tools in order to help visualise them. "
   ]
  },
  {
   "cell_type": "code",
   "execution_count": 4,
   "metadata": {
    "deletable": false,
    "editable": false,
    "nbgrader": {
     "cell_type": "code",
     "checksum": "bab411dd61df0908fb5826052bd8a4b5",
     "grade": false,
     "grade_id": "cell-fc4627e145712216",
     "locked": true,
     "schema_version": 3,
     "solution": false,
     "task": false
    }
   },
   "outputs": [
    {
     "data": {
      "image/png": "[encoded data removed]",
      "text/plain": [
       "<Figure size 432x432 with 1 Axes>"
      ]
     },
     "metadata": {
      "needs_background": "light"
     },
     "output_type": "display_data"
    }
   ],
   "source": [
    "fig = plt.figure(figsize=(6,6))\n",
    "plt.scatter(X_train[:, 0], X_train[:, 1], c=Y_train, cmap='cool')\n",
    "plt.ylabel('$x_2$')\n",
    "plt.xlabel('$x_1$')\n",
    "plt.show()"
   ]
  },
  {
   "cell_type": "code",
   "execution_count": 5,
   "metadata": {},
   "outputs": [],
   "source": [
    "# You can use this block play around "
   ]
  },
  {
   "cell_type": "markdown",
   "metadata": {
    "deletable": false,
    "editable": false,
    "nbgrader": {
     "cell_type": "markdown",
     "checksum": "ef23f018a5ada8435135426fa7286902",
     "grade": false,
     "grade_id": "cell-c2bc9660f8aad290",
     "locked": true,
     "schema_version": 3,
     "solution": false,
     "task": false
    }
   },
   "source": [
    "# Task 1: Distance Function\n",
    "Your first task is to develop a function that takes in two feature vectors (numpy arrays), $\\mathbf{x}^{[a]}$, and $\\mathbf{x}^{[b]}$ and ouputs the Euclidean distance between them\n",
    "\n",
    "$$\n",
    "d\\left(\\mathbf{x}^{[a]}, \\mathbf{x}^{[b]}\\right) = \\sqrt{\\sum\\limits_{j=1}^m\\left(x_j^{[a]} - x_j^{[b]}\\right)^2}\n",
    "$$\n",
    "\n",
    "Some helpful functions:\\\n",
    "`np.sqrt()`, `np.sum()` and `np.pow()`"
   ]
  },
  {
   "cell_type": "code",
   "execution_count": 6,
   "metadata": {
    "deletable": false,
    "nbgrader": {
     "cell_type": "code",
     "checksum": "4b272fe64f502efb2d72950e0d9d46ad",
     "grade": false,
     "grade_id": "cell-0c47d209d7e0134f",
     "locked": false,
     "schema_version": 3,
     "solution": true,
     "task": false
    }
   },
   "outputs": [],
   "source": [
    "def euclideanDistance(x_a, x_b):\n",
    "    \"\"\"\n",
    "    Calculates the Euclidean distance between two vectors\n",
    "    \n",
    "    Arguments:\n",
    "        x_a (array): shape [n_features, ] a single vector a\n",
    "        x_b (array): shape [n_features, ] a single vector b\n",
    "    \n",
    "    Returns:\n",
    "        distance (float): distance between vectors x_a and x_b\n",
    "    \"\"\"\n",
    "    \n",
    "    # YOUR CODE HERE\n",
    "    raise NotImplementedError()\n",
    "    return distance"
   ]
  },
  {
   "cell_type": "code",
   "execution_count": 7,
   "metadata": {},
   "outputs": [],
   "source": [
    "# Free cell"
   ]
  },
  {
   "cell_type": "code",
   "execution_count": 8,
   "metadata": {
    "deletable": false,
    "editable": false,
    "nbgrader": {
     "cell_type": "code",
     "checksum": "c4caaf7b769b9c62084bcea30fe94de1",
     "grade": true,
     "grade_id": "cell-d4e429e519887ecf",
     "locked": true,
     "points": 1,
     "schema_version": 3,
     "solution": false,
     "task": false
    }
   },
   "outputs": [
    {
     "ename": "NotImplementedError",
     "evalue": "",
     "output_type": "error",
     "traceback": [
      "\u001b[1;31m---------------------------------------------------------------------------\u001b[0m",
      "\u001b[1;31mNotImplementedError\u001b[0m                       Traceback (most recent call last)",
      "\u001b[1;32m~\\AppData\\Local\\Temp/ipykernel_4340/2604618282.py\u001b[0m in \u001b[0;36m<module>\u001b[1;34m\u001b[0m\n\u001b[0;32m      2\u001b[0m \u001b[0mx1_grade\u001b[0m \u001b[1;33m=\u001b[0m \u001b[0mnp\u001b[0m\u001b[1;33m.\u001b[0m\u001b[0marray\u001b[0m\u001b[1;33m(\u001b[0m\u001b[1;33m(\u001b[0m\u001b[1;33m-\u001b[0m\u001b[1;36m1.0\u001b[0m\u001b[1;33m,\u001b[0m \u001b[1;36m2.0\u001b[0m\u001b[1;33m)\u001b[0m\u001b[1;33m)\u001b[0m\u001b[1;33m\u001b[0m\u001b[1;33m\u001b[0m\u001b[0m\n\u001b[0;32m      3\u001b[0m \u001b[0mx2_grade\u001b[0m \u001b[1;33m=\u001b[0m \u001b[0mnp\u001b[0m\u001b[1;33m.\u001b[0m\u001b[0marray\u001b[0m\u001b[1;33m(\u001b[0m\u001b[1;33m(\u001b[0m\u001b[1;36m2.5\u001b[0m\u001b[1;33m,\u001b[0m \u001b[1;33m-\u001b[0m\u001b[1;36m2.0\u001b[0m\u001b[1;33m)\u001b[0m\u001b[1;33m)\u001b[0m\u001b[1;33m\u001b[0m\u001b[1;33m\u001b[0m\u001b[0m\n\u001b[1;32m----> 4\u001b[1;33m \u001b[1;32massert\u001b[0m \u001b[0meuclideanDistance\u001b[0m\u001b[1;33m(\u001b[0m\u001b[0mx1_grade\u001b[0m\u001b[1;33m,\u001b[0m \u001b[0mx2_grade\u001b[0m\u001b[1;33m)\u001b[0m \u001b[1;33m==\u001b[0m \u001b[1;36m5.315072906367325\u001b[0m\u001b[1;33m\u001b[0m\u001b[1;33m\u001b[0m\u001b[0m\n\u001b[0m\u001b[0;32m      5\u001b[0m \u001b[1;33m\u001b[0m\u001b[0m\n\u001b[0;32m      6\u001b[0m \u001b[0mx1_grade\u001b[0m \u001b[1;33m=\u001b[0m \u001b[0mnp\u001b[0m\u001b[1;33m.\u001b[0m\u001b[0marray\u001b[0m\u001b[1;33m(\u001b[0m\u001b[1;33m(\u001b[0m\u001b[1;36m1.0\u001b[0m\u001b[1;33m,\u001b[0m \u001b[1;33m-\u001b[0m\u001b[1;36m1.0\u001b[0m\u001b[1;33m,\u001b[0m \u001b[1;36m0\u001b[0m\u001b[1;33m)\u001b[0m\u001b[1;33m)\u001b[0m\u001b[1;33m\u001b[0m\u001b[1;33m\u001b[0m\u001b[0m\n",
      "\u001b[1;32m~\\AppData\\Local\\Temp/ipykernel_4340/2572268505.py\u001b[0m in \u001b[0;36meuclideanDistance\u001b[1;34m(x_a, x_b)\u001b[0m\n\u001b[0;32m     12\u001b[0m \u001b[1;33m\u001b[0m\u001b[0m\n\u001b[0;32m     13\u001b[0m     \u001b[1;31m# YOUR CODE HERE\u001b[0m\u001b[1;33m\u001b[0m\u001b[1;33m\u001b[0m\u001b[1;33m\u001b[0m\u001b[0m\n\u001b[1;32m---> 14\u001b[1;33m     \u001b[1;32mraise\u001b[0m \u001b[0mNotImplementedError\u001b[0m\u001b[1;33m(\u001b[0m\u001b[1;33m)\u001b[0m\u001b[1;33m\u001b[0m\u001b[1;33m\u001b[0m\u001b[0m\n\u001b[0m\u001b[0;32m     15\u001b[0m     \u001b[1;32mreturn\u001b[0m \u001b[0mdistance\u001b[0m\u001b[1;33m\u001b[0m\u001b[1;33m\u001b[0m\u001b[0m\n",
      "\u001b[1;31mNotImplementedError\u001b[0m: "
     ]
    }
   ],
   "source": [
    "# The following tests are visible to you\n",
    "x1_grade = np.array((-1.0, 2.0))\n",
    "x2_grade = np.array((2.5, -2.0))\n",
    "assert euclideanDistance(x1_grade, x2_grade) == 5.315072906367325\n",
    "\n",
    "x1_grade = np.array((1.0, -1.0, 0))\n",
    "x2_grade = np.array((-2.0, 2.6, 1.8))\n",
    "assert euclideanDistance(x1_grade, x2_grade) == 5.019960159204453\n"
   ]
  },
  {
   "cell_type": "markdown",
   "metadata": {},
   "source": [
    "# Task 2: Calculate list of distances\n",
    "For the kNN algorithm you need to generate the distances between a single test example and all possible training examples.To do this you will need to write a function that takes in a test example and a list of examples, calculates the distance between the test example and each of the other example, and outputs a list of distances. The distances should be in the correct order as they correspond to a specific training example. To give you an idea what the output should be:\n",
    "\n",
    "$$\n",
    "\\mathcal{distance\\_list} = \\left[d\\left(\\mathbf{x}^{[t]}, \\mathbf{x}^{[1]}\\right), \\ldots, d\\left(\\mathbf{x}^{[t]}, \\mathbf{x}^{[n]}\\right)\\right]\n",
    "$$\n",
    "\n",
    "where $d\\left(\\mathbf{x}^{[t]}, \\mathbf{x}^{[1]}\\right)$ is the distance function from task 1\n",
    "\n",
    "The distances must be stored in a Python list, not a numpy array.\n",
    "\n",
    "Some helpful functions:\\\n",
    "Python's built-in `append()` function"
   ]
  },
  {
   "cell_type": "code",
   "execution_count": null,
   "metadata": {
    "deletable": false,
    "nbgrader": {
     "cell_type": "code",
     "checksum": "255f78669c78c981fcd910dc529585af",
     "grade": false,
     "grade_id": "cell-f30056b8395b2d6f",
     "locked": false,
     "schema_version": 3,
     "solution": true,
     "task": false
    }
   },
   "outputs": [],
   "source": [
    "def calculateDistances(x_test, X_in):\n",
    "    \"\"\"\n",
    "    Calculates the distance between a single test example, x_test,\n",
    "    and a list of examples X_in. \n",
    "    \n",
    "    Args:\n",
    "        x_test (array): shape [n_features,] a single test example\n",
    "        X_in (array): shape [n_samples, n_features] a list of examples to compare against.\n",
    "    \n",
    "    Returns:\n",
    "        distance_list (list of float): The list containing the distances       \n",
    "    \"\"\"\n",
    "    \n",
    "    distance_list = []\n",
    "    # YOUR CODE HERE\n",
    "    raise NotImplementedError()\n",
    "    return distance_list"
   ]
  },
  {
   "cell_type": "code",
   "execution_count": null,
   "metadata": {},
   "outputs": [],
   "source": [
    "# Free cell"
   ]
  },
  {
   "cell_type": "code",
   "execution_count": null,
   "metadata": {
    "deletable": false,
    "editable": false,
    "nbgrader": {
     "cell_type": "code",
     "checksum": "a7072f2567aad7f252b6082f18961818",
     "grade": true,
     "grade_id": "cell-a929b720aa90a382",
     "locked": true,
     "points": 1,
     "schema_version": 3,
     "solution": false,
     "task": false
    }
   },
   "outputs": [],
   "source": [
    "# The following tests are visible to you\n",
    "x1_grade = np.array((1.0, -1.0))\n",
    "x2_grade = np.array([(2.0, -1.0),\n",
    "              (-1.5, 2.5),\n",
    "              (-2, -2),\n",
    "              (0, 0)])\n",
    "\n",
    "assert calculateDistances(x1_grade, x2_grade) == [1.0, 4.301162633521313, 3.1622776601683795, 1.4142135623730951]\n"
   ]
  },
  {
   "cell_type": "markdown",
   "metadata": {
    "deletable": false,
    "editable": false,
    "nbgrader": {
     "cell_type": "markdown",
     "checksum": "7387b4bfd9f79ab4da9338ba2709f40c",
     "grade": false,
     "grade_id": "cell-ca5d9b7bd926269e",
     "locked": true,
     "schema_version": 3,
     "solution": false,
     "task": false
    }
   },
   "source": [
    "# Task 3: Determine k Nearest Neighbours\n",
    "This task is broken into subtasks that will create a set of the k nearest neighbours to a single test example.\n",
    "$$\n",
    "\\mathcal{D}_k = \\{(\\mathbf{x}^{[i]}, \\mathbf{y}^{[i]}), \\ldots, (\\mathbf{x}^{[k]}, \\mathbf{y}^{[k]})\\}\n",
    "$$\n",
    "## Task 3.1 Sorting the distances and returning indices \n",
    "To find the k nearest neighbours you first need to sort the list of distances in ascending order. For a naive kNN we don't care about the actual distances, so we only need to know which examples are responsible for the k smallest distances. We can do this by sorting the list of distances while keeping track of the corresponding indices so that we can pull the examples from the original training data at those indices. \n",
    "\n",
    "Your function must return a numpy array (it will make indexing the original dataset easier compared to python lists)\n",
    "\n",
    "Some helpful functions:\\\n",
    "`np.argsort()`"
   ]
  },
  {
   "cell_type": "code",
   "execution_count": null,
   "metadata": {
    "deletable": false,
    "nbgrader": {
     "cell_type": "code",
     "checksum": "761eb5aac20cce9523c6066c0c7586c6",
     "grade": false,
     "grade_id": "cell-ec7d0e8451206483",
     "locked": false,
     "schema_version": 3,
     "solution": true,
     "task": false
    }
   },
   "outputs": [],
   "source": [
    "def kNearestIndices(distance_list, k):\n",
    "    \"\"\"\n",
    "    Determines the indices of the k nearest neighbours\n",
    "    \n",
    "    Arguments:\n",
    "        distance_list (list of float): list of distances between a test point \n",
    "            and every training example\n",
    "        k (int): the number of nearest neighbours to consider\n",
    "    \n",
    "    Returns:\n",
    "        k_nearest_indices (array of int): shape [k,] array of the indices \n",
    "            corresponding to the k nearest neighbours\n",
    "    \"\"\"\n",
    "    \n",
    "    # YOUR CODE HERE\n",
    "    raise NotImplementedError()\n",
    "    return k_nearest_indices"
   ]
  },
  {
   "cell_type": "code",
   "execution_count": null,
   "metadata": {},
   "outputs": [],
   "source": [
    "# Free cell"
   ]
  },
  {
   "cell_type": "code",
   "execution_count": null,
   "metadata": {
    "deletable": false,
    "editable": false,
    "nbgrader": {
     "cell_type": "code",
     "checksum": "5401fca003e3f0b55e81000556eea9c2",
     "grade": true,
     "grade_id": "cell-4c02380b15ca8aa9",
     "locked": true,
     "points": 1,
     "schema_version": 3,
     "solution": false,
     "task": false
    }
   },
   "outputs": [],
   "source": [
    "# The following tests are visible to you\n",
    "distance_list_grade = [5.0, 3.5, 2.5, 1.0]\n",
    "k_grade = 3\n",
    "assert kNearestIndices(distance_list_grade, k_grade).tolist() == [3, 2, 1]\n",
    "\n",
    "distance_list_grade = [5.0, 3.0, 3.5, 1.0, 10.0]\n",
    "k_grade = 4\n",
    "assert kNearestIndices(distance_list_grade, k_grade).tolist() == [3, 1, 2, 0]\n",
    "\n"
   ]
  },
  {
   "cell_type": "markdown",
   "metadata": {
    "deletable": false,
    "editable": false,
    "nbgrader": {
     "cell_type": "markdown",
     "checksum": "7e255ad6d865880e247cb2f490f776dc",
     "grade": false,
     "grade_id": "cell-014b5a96c7277c6f",
     "locked": true,
     "schema_version": 3,
     "solution": false,
     "task": false
    }
   },
   "source": [
    "## Task 3.2: Create $\\mathcal{D}_k$\n",
    "Now write a function that samples the original training set to produce the set of k nearest neighbours. \n",
    "For now the function should return the `X_k` and `Y_k` data matrices seperately as indicated."
   ]
  },
  {
   "cell_type": "code",
   "execution_count": null,
   "metadata": {
    "deletable": false,
    "nbgrader": {
     "cell_type": "code",
     "checksum": "bfcd06197f8fbb3abab4b91961293f37",
     "grade": false,
     "grade_id": "cell-ddeb80ff4c5cba5a",
     "locked": false,
     "schema_version": 3,
     "solution": true,
     "task": false
    }
   },
   "outputs": [],
   "source": [
    "def kNearestNeighbours(k_nearest_indices, X_in, Y_in):\n",
    "    \"\"\"\n",
    "    Creates the dataset of k nearest neighbours\n",
    "    \n",
    "    Arguments:\n",
    "        k_nearest_indices (array of int): shape [k,] array of the indices \n",
    "            corresponding to the k nearest neighbours\n",
    "        X_in (array): shape [n_examples, n_features] the example data matrix to sample from\n",
    "        Y_in (array): shape [n_examples, ] the label data matrix to sample from\n",
    "    \n",
    "    Returns:\n",
    "        X_k (array): shape [k, n_features] the k nearest examples\n",
    "        Y_k (array): shape [k, ] the labels corresponding to the k nearest examples\n",
    "    \"\"\"\n",
    "    \n",
    "    # YOUR CODE HERE\n",
    "    raise NotImplementedError()\n",
    "    return X_k, Y_k"
   ]
  },
  {
   "cell_type": "code",
   "execution_count": null,
   "metadata": {},
   "outputs": [],
   "source": [
    "# Free cell"
   ]
  },
  {
   "cell_type": "code",
   "execution_count": null,
   "metadata": {
    "deletable": false,
    "editable": false,
    "nbgrader": {
     "cell_type": "code",
     "checksum": "79990cfdc76f7e8574f328505c718780",
     "grade": true,
     "grade_id": "cell-9079d4ed61ae5212",
     "locked": true,
     "points": 1,
     "schema_version": 3,
     "solution": false,
     "task": false
    }
   },
   "outputs": [],
   "source": [
    "# The following tests are visible to you\n",
    "\n",
    "# dummy dataset for autograding purposes\n",
    "X_train_grade = np.array([[1, 1],\n",
    "                       [0, 2],\n",
    "                       [1, 2],\n",
    "                       [2, 2],\n",
    "                       [10, 10],\n",
    "                       [5, 10],\n",
    "                       [6, 6],\n",
    "                       [2, 3]])\n",
    "Y_train_grade = np.array([0, 0, 0, 0, 1, 1, 1, 0])\n",
    "\n",
    "X_k_grade, Y_k_grade = kNearestNeighbours([0, 1, 3], X_train_grade, Y_train_grade)\n",
    "assert  np.equal(X_k_grade, np.array([[1, 1],[0, 2],[2, 2]])).all()\n",
    "assert  np.equal(Y_k_grade, np.array([0, 0, 0])).all()\n"
   ]
  },
  {
   "cell_type": "markdown",
   "metadata": {
    "deletable": false,
    "editable": false,
    "nbgrader": {
     "cell_type": "markdown",
     "checksum": "86bc73fcd4301f6e35fbdd7b40681f37",
     "grade": false,
     "grade_id": "cell-015443022a640bca",
     "locked": true,
     "schema_version": 3,
     "solution": false,
     "task": false
    }
   },
   "source": [
    "# Task 4: Predict Class\n",
    "You can now write a function to predict the class of a test example by choosing the class the appears most frequently in ground truth labels for the k nearest neighbours i.e. the mode.\n",
    "$$\n",
    "h(\\mathbf{x}^{[t]}) = mode(\\{y^{[i]}, \\ldots, y^{[k]}\\})\n",
    "$$\n",
    "\n",
    "Some helpful functions:\\\n",
    "`mode()` function from scipy. "
   ]
  },
  {
   "cell_type": "code",
   "execution_count": null,
   "metadata": {
    "deletable": false,
    "nbgrader": {
     "cell_type": "code",
     "checksum": "352d2fd8f2e9674c8fe2d4b6b2764d2a",
     "grade": false,
     "grade_id": "cell-274efa3a3f2df03b",
     "locked": false,
     "schema_version": 3,
     "solution": true,
     "task": false
    }
   },
   "outputs": [],
   "source": [
    "from scipy.stats import mode\n",
    "def predict(x_test, X_in, Y_in, k):\n",
    "    \"\"\"\n",
    "    Predicts the class of a single test example\n",
    "    \n",
    "    Arguments:\n",
    "        x_test (array): shape [n_features, ] the test example to classify\n",
    "        X_in (array): shape [n_input_examples, n_features] the example data matrix to sample from\n",
    "        Y_in (array): shape [n_input_labels, ] the label data matrix to sample from\n",
    "    \n",
    "    Returns:\n",
    "        prediction (array): shape [1,] the number corresponding to the class \n",
    "    \"\"\"\n",
    "    \n",
    "    # YOUR CODE HERE\n",
    "    raise NotImplementedError()\n",
    "    return prediction"
   ]
  },
  {
   "cell_type": "code",
   "execution_count": null,
   "metadata": {},
   "outputs": [],
   "source": [
    "# Free cell"
   ]
  },
  {
   "cell_type": "code",
   "execution_count": null,
   "metadata": {
    "deletable": false,
    "editable": false,
    "nbgrader": {
     "cell_type": "code",
     "checksum": "0030eae693b05cbd837b5d79876d4afa",
     "grade": true,
     "grade_id": "cell-0dc733509ae4b5d8",
     "locked": true,
     "points": 1,
     "schema_version": 3,
     "solution": false,
     "task": false
    }
   },
   "outputs": [],
   "source": [
    "# The following tests are visible to you\n",
    "\n",
    "# dummy dataset for autograding purposes\n",
    "X_train_grade = np.array([[1, 1],\n",
    "                       [0, 2],\n",
    "                       [2, 1],\n",
    "                       [1, 3],\n",
    "                       [10, 10],\n",
    "                       [5, 10],\n",
    "                       [6, 8],\n",
    "                       [2, 3]])\n",
    "Y_train_grade = np.array([0, 0, 0, 0, 1, 1, 1, 0])\n",
    "\n",
    "x1_grade = np.array([1, 2])\n",
    "k_grade = 3\n",
    "assert predict(x1_grade, X_train_grade, Y_train_grade, k_grade) == 0\n",
    "\n",
    "x1_grade = np.array([6, 9])\n",
    "k_grade = 2\n",
    "assert predict(x1_grade, X_train_grade, Y_train_grade, k_grade) == 1\n"
   ]
  },
  {
   "cell_type": "markdown",
   "metadata": {
    "deletable": false,
    "editable": false,
    "nbgrader": {
     "cell_type": "markdown",
     "checksum": "51360ed7e0fc6cd652971a5ed4c2c4a8",
     "grade": false,
     "grade_id": "cell-66c7b5d0fc938bea",
     "locked": true,
     "schema_version": 3,
     "solution": false,
     "task": false
    }
   },
   "source": [
    "# Task 5: Predict for an entire batch of test examples\n",
    "After you can successfully classify a single test example you need to repeat this across an entire batch of examples so we can apply performance metrics to assess the model.\n",
    "\\begin{align}\n",
    "\\hat{\\mathbf{Y}}(\\mathbf{X}_{test}) &= \\{h(\\mathbf{x}_{test}^{[i]}), \\ldots, h(\\mathbf{x}_{test}^{[j]})\\} \\\\\n",
    "&= \\{\\hat{y}^{[1]}, \\ldots, \\hat{y}^{[j]}\\}\n",
    "\\end{align}\n",
    "\n",
    "Sklearn and many other machine learning libraries will provide the data in terms of numpy arrays or similar (i.e. the tensors are commonly used by libraries such as tensorflow and pytorch and in most cases will work similarly to numpy arrays). If you take a slice of label data for example: \\\n",
    "Slicing the first 3 labels from Y, `Y[:3] => array([0, 1, 1])`. The shape of this would be (n_train_labels, ) *more generally (n_train_labels, n_output_features) if your output is a vector. If you had a python list it would appear as `Y[:3] => [0, 1, 1]`\n",
    "\n",
    "You want to make sure that a batch of predicted outputs from your model matches the same form as a batch of labels for when you start making calculations such as accuracy. e.g, you want `y_hat.shape => (n_test_labels,)` to have the same shape as the lables `y.shape => (n_test_labels,)`. \n",
    "\n",
    "Most libraries will have this as part of how they create their models, but when building your own algorithms you may have intermediate steps that do not produce it exactly like this. These kinds of errors regarding data shape and dimensions pop up very often in practise. \n",
    "\n",
    "Some helpful functions:\\\n",
    "To combine multiple arrays: `np.concatenate()` *beware of axis when concatenating or for convenience `np.vstack()`\n",
    "To change the shape of an array: `ndarray.reshape(shape)` or sometimes conventiently `ndarray.flatten()`"
   ]
  },
  {
   "cell_type": "code",
   "execution_count": null,
   "metadata": {
    "deletable": false,
    "nbgrader": {
     "cell_type": "code",
     "checksum": "2b5b42e100aa1d8288fd4e1135a55dd6",
     "grade": false,
     "grade_id": "cell-0468365769f794cc",
     "locked": false,
     "schema_version": 3,
     "solution": true,
     "task": false
    }
   },
   "outputs": [],
   "source": [
    "def predictBatch(X_t, X_in, Y_in, k):\n",
    "    \"\"\"\n",
    "    Performs predictions over a batch of test examples\n",
    "    \n",
    "    Arguments:\n",
    "        X_t (array): shape [n_test_examples, n_features]\n",
    "        X_in (array): shape [n_input_examples, n_features]\n",
    "        Y_in (array): shape [n_input_labels, ]\n",
    "        k (int): number of nearest neighbours to consider\n",
    "    \n",
    "    Returns:\n",
    "        predictions (array): shape [n_test_examples,] the array of predictions\n",
    "        \n",
    "    \"\"\"\n",
    "    # YOUR CODE HERE\n",
    "    raise NotImplementedError()\n",
    "    return predictions"
   ]
  },
  {
   "cell_type": "code",
   "execution_count": null,
   "metadata": {},
   "outputs": [],
   "source": [
    "# free cell"
   ]
  },
  {
   "cell_type": "code",
   "execution_count": null,
   "metadata": {
    "deletable": false,
    "editable": false,
    "nbgrader": {
     "cell_type": "code",
     "checksum": "eafb8e37068fed405370f50d476aae88",
     "grade": true,
     "grade_id": "cell-4bab47f20157d86f",
     "locked": true,
     "points": 1,
     "schema_version": 3,
     "solution": false,
     "task": false
    }
   },
   "outputs": [],
   "source": [
    "# The following tests are visible to you\n",
    "# dummy dataset for grading purposes\n",
    "X_train_grade = np.array([[1, 1],\n",
    "                       [0, 2],\n",
    "                       [2, 1],\n",
    "                       [1, 3],\n",
    "                       [10, 10],\n",
    "                       [5, 10],\n",
    "                       [6, 8],\n",
    "                       [2, 3]])\n",
    "Y_train_grade = np.array([0, 0, 0, 0, 1, 1, 1, 0])\n",
    "\n",
    "X_test_grade = np.array([[0, 0],\n",
    "                [0, 1],\n",
    "                [6, 10],\n",
    "                [9, 8]])\n",
    "Y_test_grade = np.array([0, 0, 1, 1])\n",
    "k_grade=1\n",
    "assert np.equal(predictBatch(X_test_grade, X_train_grade, Y_train_grade, k=k_grade), Y_test_grade).all()"
   ]
  },
  {
   "cell_type": "markdown",
   "metadata": {
    "deletable": false,
    "editable": false,
    "nbgrader": {
     "cell_type": "markdown",
     "checksum": "c0074d8bccc8c5dd748b7e23be23ad6e",
     "grade": false,
     "grade_id": "cell-5e4cdb349e55b34a",
     "locked": true,
     "schema_version": 3,
     "solution": false,
     "task": false
    }
   },
   "source": [
    "# Task 6: Accuracy metric\n",
    "In this task you will create a function to measure the overall accuracy of your model. \n",
    "$$\n",
    "ACC = \\frac{\\# correct predictions}{\\# total examples}\n",
    "$$"
   ]
  },
  {
   "cell_type": "code",
   "execution_count": null,
   "metadata": {
    "deletable": false,
    "nbgrader": {
     "cell_type": "code",
     "checksum": "97dc10466f6b75216928c3881f31e863",
     "grade": false,
     "grade_id": "cell-a0109af159de5718",
     "locked": false,
     "schema_version": 3,
     "solution": true,
     "task": false
    }
   },
   "outputs": [],
   "source": [
    "def accuracy(Y_pred, Y_test):\n",
    "    \"\"\"\n",
    "    Calculates the accuracy of the model \n",
    "    \n",
    "    Arguments:\n",
    "        Y_pred (array): shape [n_test_examples,] an array of model predictions\n",
    "        Y_test (array): shape [n_test_labels,] an array of test labels to \n",
    "            evaluate the predictions against\n",
    "    \n",
    "    Returns:\n",
    "        accuracy (float): the accuracy of the model\n",
    "    \"\"\"\n",
    "    # YOUR CODE HERE\n",
    "    raise NotImplementedError()\n",
    "    \n",
    "    return accuracy\n",
    "    "
   ]
  },
  {
   "cell_type": "code",
   "execution_count": null,
   "metadata": {},
   "outputs": [],
   "source": [
    "# Free cell"
   ]
  },
  {
   "cell_type": "code",
   "execution_count": null,
   "metadata": {
    "deletable": false,
    "editable": false,
    "nbgrader": {
     "cell_type": "code",
     "checksum": "58b95b4ae4d933326e060c6e4563bfdf",
     "grade": true,
     "grade_id": "cell-2966e416b8d35409",
     "locked": true,
     "points": 1,
     "schema_version": 3,
     "solution": false,
     "task": false
    }
   },
   "outputs": [],
   "source": [
    "# The following tests are visible to you\n",
    "\n",
    "Y_test_grade = np.array([0, 1, 0, 0])\n",
    "Y_pred_grade = np.array([0, 1, 1, 0])\n",
    "\n",
    "assert accuracy(Y_pred_grade, Y_test_grade) == 0.75\n",
    "\n",
    "Y_pred_grade = np.array([1, 0, 0, 0])\n",
    "assert accuracy(Y_pred_grade, Y_test_grade) == 0.5\n"
   ]
  },
  {
   "cell_type": "markdown",
   "metadata": {
    "deletable": false,
    "editable": false,
    "nbgrader": {
     "cell_type": "markdown",
     "checksum": "270ac4c2b820d3d9feeb73f37a6d40c1",
     "grade": false,
     "grade_id": "cell-64f918285ef655db",
     "locked": true,
     "schema_version": 3,
     "solution": false,
     "task": false
    }
   },
   "source": [
    "# Task 7: Test your model\n",
    "Now you can combine the rest of the functions you've built into on function run your model with the generated training and test to data evaluate your model. This is really just to make running multiple tests more convenient.   "
   ]
  },
  {
   "cell_type": "code",
   "execution_count": null,
   "metadata": {
    "deletable": false,
    "nbgrader": {
     "cell_type": "code",
     "checksum": "d4fab4136b7a52aa6f7b6b93ad0aaacf",
     "grade": false,
     "grade_id": "cell-904fe1ac8dc59739",
     "locked": false,
     "schema_version": 3,
     "solution": true,
     "task": false
    }
   },
   "outputs": [],
   "source": [
    "def run(X_train, X_test, Y_train, Y_test, k):\n",
    "    \"\"\"\n",
    "    Evaluates the model on the test data\n",
    "    \n",
    "    Arguments:\n",
    "        X_train (array): shape [n_train_examples, n_features]\n",
    "        X_test (array): shape [n_test_examples, n_features]\n",
    "        Y_train (array): shape [n_train_examples, ]\n",
    "        Y_test (array): shape [n_test_examples, ]\n",
    "        k (int): number of nearest neighbours to consider\n",
    "    \n",
    "    Returns:\n",
    "        test_accuracy (float): the final accuracy of your model \n",
    "    \"\"\"\n",
    "    \n",
    "    # YOUR CODE HERE\n",
    "    raise NotImplementedError()\n",
    "    return test_accuracy"
   ]
  },
  {
   "cell_type": "code",
   "execution_count": null,
   "metadata": {},
   "outputs": [],
   "source": [
    "# Free cell"
   ]
  },
  {
   "cell_type": "code",
   "execution_count": null,
   "metadata": {
    "deletable": false,
    "editable": false,
    "nbgrader": {
     "cell_type": "code",
     "checksum": "f27ecdb50b093f1267fb5585172142ae",
     "grade": true,
     "grade_id": "cell-5c70f503507f5a3b",
     "locked": true,
     "points": 1,
     "schema_version": 3,
     "solution": false,
     "task": false
    }
   },
   "outputs": [],
   "source": [
    "# I can't show you an example test because it would give away the answer"
   ]
  },
  {
   "cell_type": "markdown",
   "metadata": {
    "deletable": false,
    "editable": false,
    "nbgrader": {
     "cell_type": "markdown",
     "checksum": "a032aa60949709ac1b581342c1c69770",
     "grade": false,
     "grade_id": "cell-4ee94dc16dfc227b",
     "locked": true,
     "schema_version": 3,
     "solution": false,
     "task": false
    }
   },
   "source": [
    "# End of Part 1\n",
    "That concludes this part of assignment 1. "
   ]
  }
 ],
 "metadata": {
  "interpreter": {
   "hash": "beea5f57de4de73418adf7b31c368e8a87783b73ebf4d85e0233724942cd8f65"
  },
  "kernelspec": {
   "display_name": "intro-ml",
   "language": "python",
   "name": "python3"
  },
  "language_info": {
   "codemirror_mode": {
    "name": "ipython",
    "version": 3
   },
   "file_extension": ".py",
   "mimetype": "text/x-python",
   "name": "python",
   "nbconvert_exporter": "python",
   "pygments_lexer": "ipython3",
   "version": "3.8.12"
  }
 },
 "nbformat": 4,
 "nbformat_minor": 4
}
